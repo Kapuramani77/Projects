{
 "cells": [
  {
   "cell_type": "markdown",
   "metadata": {},
   "source": [
    "# #PROJECT-1"
   ]
  },
  {
   "cell_type": "code",
   "execution_count": 4,
   "metadata": {},
   "outputs": [
    {
     "data": {
      "text/html": [
       "<div>\n",
       "<style scoped>\n",
       "    .dataframe tbody tr th:only-of-type {\n",
       "        vertical-align: middle;\n",
       "    }\n",
       "\n",
       "    .dataframe tbody tr th {\n",
       "        vertical-align: top;\n",
       "    }\n",
       "\n",
       "    .dataframe thead th {\n",
       "        text-align: right;\n",
       "    }\n",
       "</style>\n",
       "<table border=\"1\" class=\"dataframe\">\n",
       "  <thead>\n",
       "    <tr style=\"text-align: right;\">\n",
       "      <th></th>\n",
       "      <th>Name,Age,Parent_Addr.,Cont_no,Email_Id</th>\n",
       "    </tr>\n",
       "  </thead>\n",
       "  <tbody>\n",
       "    <tr>\n",
       "      <th>0</th>\n",
       "      <td>Keziah,18,Mumbai,9876543122,so@acx</td>\n",
       "    </tr>\n",
       "    <tr>\n",
       "      <th>1</th>\n",
       "      <td>Arati,17,Odisha,7654321906,wae@ter</td>\n",
       "    </tr>\n",
       "    <tr>\n",
       "      <th>2</th>\n",
       "      <td>Sujata,20,Hydrabad,2345678901,tar@iop</td>\n",
       "    </tr>\n",
       "    <tr>\n",
       "      <th>3</th>\n",
       "      <td>Kishor,21,UP,5438426189,wet@oop</td>\n",
       "    </tr>\n",
       "    <tr>\n",
       "      <th>4</th>\n",
       "      <td>Vivek,19,Ranchi,1235456789,po@qaz</td>\n",
       "    </tr>\n",
       "  </tbody>\n",
       "</table>\n",
       "</div>"
      ],
      "text/plain": [
       "  Name,Age,Parent_Addr.,Cont_no,Email_Id\n",
       "0     Keziah,18,Mumbai,9876543122,so@acx\n",
       "1     Arati,17,Odisha,7654321906,wae@ter\n",
       "2  Sujata,20,Hydrabad,2345678901,tar@iop\n",
       "3        Kishor,21,UP,5438426189,wet@oop\n",
       "4      Vivek,19,Ranchi,1235456789,po@qaz"
      ]
     },
     "execution_count": 4,
     "metadata": {},
     "output_type": "execute_result"
    }
   ],
   "source": [
    "import pandas as pd\n",
    "kez=pd.read_table('C:\\\\Users\\\\Lenovo\\\\Desktop\\\\tempor.csv')\n",
    "kez.head()\n"
   ]
  },
  {
   "cell_type": "code",
   "execution_count": 5,
   "metadata": {},
   "outputs": [
    {
     "name": "stdout",
     "output_type": "stream",
     "text": [
      "     Name  Age Parent_Addr.     Cont_no Email_Id\n",
      "0  Keziah   18       Mumbai  9876543122   so@acx\n",
      "1   Arati   17       Odisha  7654321906  wae@ter\n",
      "2  Sujata   20     Hydrabad  2345678901  tar@iop\n",
      "3  Kishor   21           UP  5438426189  wet@oop\n",
      "4   Vivek   19       Ranchi  1235456789   po@qaz\n"
     ]
    }
   ],
   "source": [
    "kez=pd.read_csv('C:\\\\Users\\\\Lenovo\\\\Desktop\\\\tempor.csv')\n",
    "print(kez)"
   ]
  },
  {
   "cell_type": "code",
   "execution_count": 6,
   "metadata": {},
   "outputs": [
    {
     "data": {
      "text/html": [
       "<div>\n",
       "<style scoped>\n",
       "    .dataframe tbody tr th:only-of-type {\n",
       "        vertical-align: middle;\n",
       "    }\n",
       "\n",
       "    .dataframe tbody tr th {\n",
       "        vertical-align: top;\n",
       "    }\n",
       "\n",
       "    .dataframe thead th {\n",
       "        text-align: right;\n",
       "    }\n",
       "</style>\n",
       "<table border=\"1\" class=\"dataframe\">\n",
       "  <thead>\n",
       "    <tr style=\"text-align: right;\">\n",
       "      <th></th>\n",
       "      <th>Name</th>\n",
       "      <th>Age</th>\n",
       "      <th>Parent_Addr.</th>\n",
       "      <th>Cont_no</th>\n",
       "      <th>Email_Id</th>\n",
       "    </tr>\n",
       "  </thead>\n",
       "  <tbody>\n",
       "    <tr>\n",
       "      <th>0</th>\n",
       "      <td>Keziah</td>\n",
       "      <td>18</td>\n",
       "      <td>Mumbai</td>\n",
       "      <td>9876543122</td>\n",
       "      <td>so@acx</td>\n",
       "    </tr>\n",
       "    <tr>\n",
       "      <th>1</th>\n",
       "      <td>Arati</td>\n",
       "      <td>17</td>\n",
       "      <td>Odisha</td>\n",
       "      <td>7654321906</td>\n",
       "      <td>wae@ter</td>\n",
       "    </tr>\n",
       "    <tr>\n",
       "      <th>2</th>\n",
       "      <td>Sujata</td>\n",
       "      <td>20</td>\n",
       "      <td>Hydrabad</td>\n",
       "      <td>2345678901</td>\n",
       "      <td>tar@iop</td>\n",
       "    </tr>\n",
       "    <tr>\n",
       "      <th>3</th>\n",
       "      <td>Kishor</td>\n",
       "      <td>21</td>\n",
       "      <td>UP</td>\n",
       "      <td>5438426189</td>\n",
       "      <td>wet@oop</td>\n",
       "    </tr>\n",
       "    <tr>\n",
       "      <th>4</th>\n",
       "      <td>Vivek</td>\n",
       "      <td>19</td>\n",
       "      <td>Ranchi</td>\n",
       "      <td>1235456789</td>\n",
       "      <td>po@qaz</td>\n",
       "    </tr>\n",
       "  </tbody>\n",
       "</table>\n",
       "</div>"
      ],
      "text/plain": [
       "     Name  Age Parent_Addr.     Cont_no Email_Id\n",
       "0  Keziah   18       Mumbai  9876543122   so@acx\n",
       "1   Arati   17       Odisha  7654321906  wae@ter\n",
       "2  Sujata   20     Hydrabad  2345678901  tar@iop\n",
       "3  Kishor   21           UP  5438426189  wet@oop\n",
       "4   Vivek   19       Ranchi  1235456789   po@qaz"
      ]
     },
     "execution_count": 6,
     "metadata": {},
     "output_type": "execute_result"
    }
   ],
   "source": [
    "kez.head()"
   ]
  },
  {
   "cell_type": "code",
   "execution_count": 17,
   "metadata": {},
   "outputs": [
    {
     "name": "stdout",
     "output_type": "stream",
     "text": [
      "Enter the students information in following format (Name  Age  Parent_Addr.  Cont_no.  Email_Id ): Sujata,20,Hydrabad,2345678901,tar@iop\n",
      "Enter info: Sujata,20,Hydrabad,2345678901,tar@iop\n",
      "Entered split up info:  ['Sujata,20,Hydrabad,2345678901,tar@iop']\n",
      "Enter (yes/no) if you want the inforamtion for another students: yes\n"
     ]
    }
   ],
   "source": [
    "condition=True\n",
    "stdinfo=input(\"Enter the students information in following format (Name  Age  Parent_Addr.  Cont_no.  Email_Id ): \")\n",
    "print(\"Enter info:\",stdinfo)\n",
    "\n",
    "stdinfo_list=stdinfo.split(' ')\n",
    "print(\"Entered split up info: \", str(stdinfo_list))\n",
    "\n",
    "conditionck=input(\"Enter (yes/no) if you want the inforamtion for another students: \")\n",
    "if conditionck==\"yes\":\n",
    "    condition=True\n",
    "elif conditionck==\"no\" :\n",
    "    condition=False"
   ]
  },
  {
   "cell_type": "code",
   "execution_count": null,
   "metadata": {},
   "outputs": [],
   "source": []
  }
 ],
 "metadata": {
  "kernelspec": {
   "display_name": "Python 3",
   "language": "python",
   "name": "python3"
  },
  "language_info": {
   "codemirror_mode": {
    "name": "ipython",
    "version": 3
   },
   "file_extension": ".py",
   "mimetype": "text/x-python",
   "name": "python",
   "nbconvert_exporter": "python",
   "pygments_lexer": "ipython3",
   "version": "3.7.6"
  }
 },
 "nbformat": 4,
 "nbformat_minor": 4
}
